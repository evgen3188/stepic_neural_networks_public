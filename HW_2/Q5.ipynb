{
 "cells": [
  {
   "cell_type": "code",
   "execution_count": 23,
   "metadata": {
    "collapsed": true
   },
   "outputs": [],
   "source": [
    "import numpy as np\n",
    "from scipy import misc"
   ]
  },
  {
   "cell_type": "code",
   "execution_count": 26,
   "metadata": {
    "collapsed": false
   },
   "outputs": [],
   "source": [
    "n = 50\n",
    "p = 0.55\n",
    "def test_one(n, p):\n",
    "    m = n//2\n",
    "    count = np.sum(np.where( np.random.rand(n) < p, 1, 0))\n",
    "    if count == m:\n",
    "        return (int)(np.random.rand(1)[0] > 0.5)\n",
    "    else:\n",
    "        return (int)(count > n//2)\n",
    "\n",
    "def test(total, n, p):\n",
    "    sum = 0\n",
    "    for i in range(total):\n",
    "        sum += test_one(n, p)\n",
    "    return sum/total\n",
    "\n",
    "def calc(n,p):\n",
    "    m = n//2\n",
    "    sum = 0\n",
    "    for i in range(m + 1, n + 1):\n",
    "        c = misc.comb(n, i)\n",
    "        sum += c * (p**i) * ((1-p)**(n-i))       \n",
    "    sum += misc.comb(n, m) * (p**m) * ((1-p)**(n-m))/2\n",
    "    return sum"
   ]
  },
  {
   "cell_type": "code",
   "execution_count": 34,
   "metadata": {
    "collapsed": false
   },
   "outputs": [
    {
     "data": {
      "text/plain": [
       "0.7574"
      ]
     },
     "execution_count": 34,
     "metadata": {},
     "output_type": "execute_result"
    }
   ],
   "source": [
    "test(10000, n, p)"
   ]
  },
  {
   "cell_type": "code",
   "execution_count": 32,
   "metadata": {
    "collapsed": false
   },
   "outputs": [
    {
     "data": {
      "text/plain": [
       "0.75970434396194797"
      ]
     },
     "execution_count": 32,
     "metadata": {},
     "output_type": "execute_result"
    }
   ],
   "source": [
    "calc(50, p)"
   ]
  },
  {
   "cell_type": "code",
   "execution_count": null,
   "metadata": {
    "collapsed": true
   },
   "outputs": [],
   "source": []
  }
 ],
 "metadata": {
  "kernelspec": {
   "display_name": "Python 3",
   "language": "python",
   "name": "python3"
  },
  "language_info": {
   "codemirror_mode": {
    "name": "ipython",
    "version": 3
   },
   "file_extension": ".py",
   "mimetype": "text/x-python",
   "name": "python",
   "nbconvert_exporter": "python",
   "pygments_lexer": "ipython3",
   "version": "3.5.1"
  }
 },
 "nbformat": 4,
 "nbformat_minor": 0
}
